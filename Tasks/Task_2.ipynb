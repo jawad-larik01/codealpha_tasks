{
 "cells": [
  {
   "cell_type": "code",
   "execution_count": null,
   "id": "a08896c6-5007-4d60-8acf-23faf0e5700c",
   "metadata": {},
   "outputs": [
    {
     "name": "stderr",
     "output_type": "stream",
     "text": [
      "[nltk_data] Downloading package punkt to\n",
      "[nltk_data]     C:\\Users\\Ahmer\\AppData\\Roaming\\nltk_data...\n",
      "[nltk_data]   Package punkt is already up-to-date!\n"
     ]
    },
    {
     "name": "stdout",
     "output_type": "stream",
     "text": [
      "ChatBot: Hello! I'm your friendly chatbot. How can I assist you today?\n"
     ]
    }
   ],
   "source": [
    "import nltk\n",
    "from nltk.chat.util import Chat, reflections\n",
    "\n",
    "nltk.download('punkt')\n",
    "\n",
    "pairs = [\n",
    "    [\n",
    "        r\"hi|hello|hey\",\n",
    "        [\"Hello! How can I assist you today?\", \"Hi there! What can I do for you?\", \"Hey! How can I help?\"]\n",
    "    ],\n",
    "    [\n",
    "        r\"how are you ?\",\n",
    "        [\"I'm doing well, thank you!\", \"I'm great, thanks for asking!\", \"All good here! How about you?\"]\n",
    "    ],\n",
    "    [\n",
    "        r\"what is your name ?\",\n",
    "        [\"I am a chatbot created for this internship project. You can call me ChatBot!\", \"My name is ChatBot. Nice to meet you!\"]\n",
    "    ],\n",
    "    [\n",
    "        r\"what can you do ?\",\n",
    "        [\"I can chat with you, answer simple questions, tell jokes, and more! Feel free to ask me anything.\"]\n",
    "    ],\n",
    "    [\n",
    "        r\"tell me a joke\",\n",
    "        [\"Why don't scientists trust atoms? Because they make up everything!\", \"What do you call fake spaghetti? An impasta!\"]\n",
    "    ],\n",
    "    [\n",
    "        r\"thank you|thanks\",\n",
    "        [\"You're welcome!\", \"No problem!\", \"Happy to help!\"]\n",
    "    ],\n",
    "    [\n",
    "        r\"quit|exit|bye\",\n",
    "        [\"Goodbye! Have a great day!\", \"It was nice talking to you. See you later!\", \"Bye! Take care!\"]\n",
    "    ],\n",
    "    [\n",
    "        r\"default\",\n",
    "        [\"I'm not sure I understand. Can you rephrase that?\", \"I didn't get that. Could you say it again?\"]\n",
    "    ]\n",
    "]\n",
    "\n",
    "class InternshipChatBot:\n",
    "    def __init__(self, pairs, reflections):\n",
    "        self.chatbot = Chat(pairs, reflections)\n",
    "\n",
    "    def start_chat(self):\n",
    "        print(\"ChatBot: Hello! I'm your friendly chatbot. How can I assist you today?\")\n",
    "        while True:\n",
    "            user_input = input(\"You: \")\n",
    "            if user_input.lower() in [\"quit\", \"exit\", \"bye\"]:\n",
    "                print(\"ChatBot: Goodbye! Have a great day!\")\n",
    "                break\n",
    "            response = self.chatbot.respond(user_input)\n",
    "            print(\"ChatBot:\", response)\n",
    "\n",
    "\n",
    "if __name__ == \"__main__\":\n",
    "    chatbot = InternshipChatBot(pairs, reflections)\n",
    "\n",
    "    chatbot.start_chat()"
   ]
  },
  {
   "cell_type": "code",
   "execution_count": null,
   "id": "2b71309c-c974-4501-ad56-02d98fd14fc0",
   "metadata": {},
   "outputs": [],
   "source": []
  }
 ],
 "metadata": {
  "kernelspec": {
   "display_name": "Python 3 (ipykernel)",
   "language": "python",
   "name": "python3"
  },
  "language_info": {
   "codemirror_mode": {
    "name": "ipython",
    "version": 3
   },
   "file_extension": ".py",
   "mimetype": "text/x-python",
   "name": "python",
   "nbconvert_exporter": "python",
   "pygments_lexer": "ipython3",
   "version": "3.13.1"
  }
 },
 "nbformat": 4,
 "nbformat_minor": 5
}
