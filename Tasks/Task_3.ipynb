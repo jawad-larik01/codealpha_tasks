{
 "cells": [
  {
   "cell_type": "code",
   "execution_count": 3,
   "id": "f80f15c4-47d4-4d6a-9bf9-58e1f84f5561",
   "metadata": {},
   "outputs": [
    {
     "name": "stdin",
     "output_type": "stream",
     "text": [
      "Please enter the directory path to organize:  C:\\Users\\Ahmer\\Desktop\n"
     ]
    },
    {
     "name": "stdout",
     "output_type": "stream",
     "text": [
      "Files organized successfully!\n"
     ]
    }
   ],
   "source": [
    "import os\n",
    "import shutil\n",
    "\n",
    "def organize_files(directory):\n",
    "    if not os.path.exists(directory):\n",
    "        print(\"Directory does not exist.\")\n",
    "        return\n",
    "    \n",
    "    file_types = {\n",
    "        'Images': ['.jpg', '.jpeg', '.png', '.gif'],\n",
    "        'Documents': ['.pdf', '.docx', '.txt', '.xlsx'],\n",
    "        'Flutter': ['.dart'],\n",
    "        'App': ['.lnk'],\n",
    "        'Apps': ['.exe'],\n",
    "        'Videos': ['.mp4', '.avi', '.mkv'],\n",
    "        'Archives': ['.zip', '.rar', '.tar'],\n",
    "    }\n",
    "    \n",
    "    folders_created = {}\n",
    "    \n",
    "    for file in os.listdir(directory):\n",
    "        file_path = os.path.join(directory, file)\n",
    "        if os.path.isfile(file_path):\n",
    "            for folder, extensions in file_types.items():\n",
    "                if any(file.lower().endswith(ext) for ext in extensions):\n",
    "                    folder_path = os.path.join(directory, folder)\n",
    "                    if folder not in folders_created:\n",
    "                        os.makedirs(folder_path, exist_ok=True)\n",
    "                        folders_created[folder] = True\n",
    "                    shutil.move(file_path, os.path.join(folder_path, file))\n",
    "                    break\n",
    "    \n",
    "    print(\"Files organized successfully!\")\n",
    "\n",
    "if __name__ == \"__main__\":\n",
    "    folder_to_organize = input(\"Please enter the directory path to organize: \")\n",
    "    organize_files(folder_to_organize)"
   ]
  },
  {
   "cell_type": "code",
   "execution_count": null,
   "id": "986855b2-3d16-4fad-a268-94f1ec0bc47a",
   "metadata": {},
   "outputs": [],
   "source": []
  }
 ],
 "metadata": {
  "kernelspec": {
   "display_name": "Python 3 (ipykernel)",
   "language": "python",
   "name": "python3"
  },
  "language_info": {
   "codemirror_mode": {
    "name": "ipython",
    "version": 3
   },
   "file_extension": ".py",
   "mimetype": "text/x-python",
   "name": "python",
   "nbconvert_exporter": "python",
   "pygments_lexer": "ipython3",
   "version": "3.13.1"
  }
 },
 "nbformat": 4,
 "nbformat_minor": 5
}
